{
 "cells": [
  {
   "cell_type": "markdown",
   "id": "24b935ba",
   "metadata": {},
   "source": [
    "Stack using List"
   ]
  },
  {
   "cell_type": "code",
   "execution_count": 6,
   "id": "79e970be",
   "metadata": {},
   "outputs": [],
   "source": [
    "class Stack:\n",
    "    def __init__(self):\n",
    "        self.item = []\n",
    "    def push(self,data):\n",
    "        self.item.append(data)\n",
    "    def is_empty(self):\n",
    "        return len(self.item) == 0\n",
    "    def pop(self):\n",
    "        if not self.is_empty():\n",
    "            return self.item.pop()\n",
    "        else:\n",
    "            raise IndexError(\"Stack is Empty\")\n",
    "    def peek(self):\n",
    "        if not self.is_empty():\n",
    "            return self.item[-1]\n",
    "        else:\n",
    "            raise IndexError(\"Stack is Empty\")\n",
    "    def size(self):\n",
    "        return len(self.item)\n",
    "\n",
    "\n"
   ]
  },
  {
   "cell_type": "code",
   "execution_count": null,
   "id": "00f786b9",
   "metadata": {},
   "outputs": [
    {
     "data": {
      "text/plain": [
       "False"
      ]
     },
     "execution_count": 5,
     "metadata": {},
     "output_type": "execute_result"
    }
   ],
   "source": [
    "s1 = Stack()\n",
    "s1.push(30)\n",
    "s1.push(40)\n",
    "s1.push(10)\n",
    "s1.push(20)\n",
    "s1.is_empty()\n",
    "s1.peek()"
   ]
  },
  {
   "cell_type": "markdown",
   "id": "b68ef961",
   "metadata": {},
   "source": [
    "Stack extending List"
   ]
  },
  {
   "cell_type": "code",
   "execution_count": null,
   "id": "4197245a",
   "metadata": {},
   "outputs": [],
   "source": [
    "class StackExtendingList(list):\n",
    "    def push(self,data):\n",
    "        self.append(data)\n",
    "    def is_empty(self):\n",
    "        return len(self) == 0\n",
    "    def pop(self):\n",
    "        if not self.is_empty():\n",
    "            return super().pop()\n",
    "        else:\n",
    "            raise IndexError(\"Stack is Empty\")\n",
    "    def peek(self):\n",
    "        if not self.is_empty():\n",
    "            return self[-1]\n",
    "        else:\n",
    "            raise IndexError(\"Stack is Empty\")\n",
    "    def size(self):\n",
    "        return len(self)\n",
    "    # insert is available in stack but we can't use it for stack.So we override super class\n",
    "    def insert(self, index, data):\n",
    "        raise AttributeError(\"This feature isn't available for Stack\")\n",
    "\n",
    "\n",
    "\n"
   ]
  },
  {
   "cell_type": "code",
   "execution_count": null,
   "id": "79149650",
   "metadata": {},
   "outputs": [],
   "source": []
  },
  {
   "cell_type": "markdown",
   "id": "bc19bc8b",
   "metadata": {},
   "source": [
    "Stack using Linked List"
   ]
  },
  {
   "cell_type": "code",
   "execution_count": 9,
   "id": "4843db2b",
   "metadata": {},
   "outputs": [],
   "source": [
    "class Node:\n",
    "    def __init__(self, item = None, next = None):\n",
    "        self.item = item\n",
    "        self.next = next\n",
    "\n",
    "class StackUsingLinkedList:\n",
    "    def __init__(self):\n",
    "        self.start = None\n",
    "        self.item_count = 0\n",
    "    def push(self, data):\n",
    "        n = Node(data, self.start)\n",
    "        self.start = n\n",
    "        self.item_count += 1\n",
    "    def is_empty(self):\n",
    "        return self.start == None\n",
    "    def pop(self):\n",
    "        if not self.is_empty():\n",
    "            data = self.start.item\n",
    "            self.start = self.start.next\n",
    "            self.item_count -= 1\n",
    "            return data\n",
    "        else:\n",
    "            raise IndexError(\"Stack is Empty!\")\n",
    "    def peek(self):\n",
    "        if not self.is_empty():\n",
    "            data = self.start.item\n",
    "            return data\n",
    "        else:\n",
    "            raise IndexError(\"Stack is Empty!\")\n",
    "    def size(self):\n",
    "        return self.item_count\n"
   ]
  },
  {
   "cell_type": "code",
   "execution_count": 14,
   "id": "8fd181e7",
   "metadata": {},
   "outputs": [
    {
     "name": "stdout",
     "output_type": "stream",
     "text": [
      "30\n",
      "2\n"
     ]
    }
   ],
   "source": [
    "s3 = StackUsingLinkedList()\n",
    "s3.push(10)\n",
    "s3.push(20)\n",
    "# s3.pop()\n",
    "s3.push(30)\n",
    "print(s3.pop())\n",
    "print(s3.size())"
   ]
  }
 ],
 "metadata": {
  "kernelspec": {
   "display_name": "base",
   "language": "python",
   "name": "python3"
  },
  "language_info": {
   "codemirror_mode": {
    "name": "ipython",
    "version": 3
   },
   "file_extension": ".py",
   "mimetype": "text/x-python",
   "name": "python",
   "nbconvert_exporter": "python",
   "pygments_lexer": "ipython3",
   "version": "3.11.7"
  }
 },
 "nbformat": 4,
 "nbformat_minor": 5
}
