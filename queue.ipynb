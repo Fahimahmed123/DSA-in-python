{
 "cells": [
  {
   "cell_type": "markdown",
   "id": "1f4f3310",
   "metadata": {},
   "source": [
    "Queue using list"
   ]
  },
  {
   "cell_type": "code",
   "execution_count": 2,
   "id": "c92127bc",
   "metadata": {},
   "outputs": [],
   "source": [
    "class Queue:\n",
    "    def __init__(self):\n",
    "        self.item = []\n",
    "    def is_empty(self):\n",
    "        return len(self.item) == 0\n",
    "    def enqueue(self, data):\n",
    "        self.item.append(data)\n",
    "    def dequeue(self):\n",
    "        if self.is_empty():\n",
    "            raise IndexError(\"Stack is Empty!\")\n",
    "        else:\n",
    "            self.item.pop(0)\n",
    "    def get_front(self):\n",
    "        data = self.item[0]\n",
    "        return data\n",
    "    def get_rear(self):\n",
    "        data = self.item[-1]\n",
    "        return data\n",
    "    def size(self):\n",
    "        return len(self.item)"
   ]
  },
  {
   "cell_type": "code",
   "execution_count": 9,
   "id": "61b721bf",
   "metadata": {},
   "outputs": [
    {
     "data": {
      "text/plain": [
       "2"
      ]
     },
     "execution_count": 9,
     "metadata": {},
     "output_type": "execute_result"
    }
   ],
   "source": [
    "q1 = Queue()\n",
    "q1.enqueue(10)\n",
    "q1.enqueue(20)\n",
    "q1.enqueue(30)\n",
    "q1.dequeue()\n",
    "q1.get_front()\n",
    "q1.size()"
   ]
  },
  {
   "cell_type": "markdown",
   "id": "65bd942f",
   "metadata": {},
   "source": [
    "Queue using linked list"
   ]
  },
  {
   "cell_type": "code",
   "execution_count": 4,
   "id": "9e69f9ec",
   "metadata": {},
   "outputs": [],
   "source": [
    "class Node:\n",
    "    def __init__(self, item = None, next = None):\n",
    "        self.item = item\n",
    "        self.next = next\n",
    "\n",
    "class QueueWithLinkedList:\n",
    "    def __init__(self):\n",
    "        self.item_count = 0\n",
    "        self.front = None\n",
    "        self.rear = None\n",
    "    def is_empty(self):\n",
    "        if self.front == None:\n",
    "            return True\n",
    "        else:\n",
    "            return False\n",
    "    def enqueue(self, data):\n",
    "        n = Node(data)\n",
    "        # if no items in the queue\n",
    "        if self.is_empty():\n",
    "            self.front = n\n",
    "            self.rear = n\n",
    "\n",
    "        # if one item then front == rear\n",
    "        elif self.front == self.rear:\n",
    "            self.rear.next = n\n",
    "            self.rear = n\n",
    "        self.item_count += 1\n",
    "    def dequeue(self):\n",
    "        if self.is_empty():\n",
    "            raise IndexError(\"The Queue is Empty !\")\n",
    "        elif self.front == self.rear:\n",
    "            self.front = None\n",
    "            self.rear = None\n",
    "        else:\n",
    "            self.front = self.front.next\n",
    "        self.item_count -= 1\n",
    "    def get_front(self):\n",
    "        data = self.front.item \n",
    "        return data\n",
    "    def get_rear(self):\n",
    "        data = self.rear\n",
    "        return data\n",
    "    def size(self):\n",
    "        return self.item_count\n",
    "\n"
   ]
  },
  {
   "cell_type": "code",
   "execution_count": null,
   "id": "51455064",
   "metadata": {},
   "outputs": [],
   "source": []
  }
 ],
 "metadata": {
  "kernelspec": {
   "display_name": "base",
   "language": "python",
   "name": "python3"
  },
  "language_info": {
   "codemirror_mode": {
    "name": "ipython",
    "version": 3
   },
   "file_extension": ".py",
   "mimetype": "text/x-python",
   "name": "python",
   "nbconvert_exporter": "python",
   "pygments_lexer": "ipython3",
   "version": "3.11.7"
  }
 },
 "nbformat": 4,
 "nbformat_minor": 5
}
