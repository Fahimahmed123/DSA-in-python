{
 "cells": [
  {
   "cell_type": "code",
   "execution_count": 1,
   "id": "13864389",
   "metadata": {},
   "outputs": [],
   "source": [
    "class Node:\n",
    "    def __init__(self, item=None, next=None):\n",
    "        self.item = item\n",
    "        self.next = next\n",
    "        "
   ]
  },
  {
   "cell_type": "code",
   "execution_count": 2,
   "id": "1ce3f25a",
   "metadata": {},
   "outputs": [],
   "source": [
    "class SLLIterator:\n",
    "    def __init__(self, start):\n",
    "        self.current = start\n",
    "    def __iter__(self):\n",
    "        pass\n",
    "    def __next__(self):\n",
    "        if not self.current:\n",
    "            raise StopIteration\n",
    "        data = self.current.item\n",
    "        self.current = self.current.next\n",
    "        return data\n",
    "\n"
   ]
  },
  {
   "cell_type": "code",
   "execution_count": 3,
   "id": "0f7caa74",
   "metadata": {},
   "outputs": [],
   "source": [
    "class SLL:\n",
    "    def __init__(self,start = None):\n",
    "        self.start = start\n",
    "    def is_empty(self):\n",
    "        return self.start == None\n",
    "    def search(self, data):\n",
    "        temp = self.start\n",
    "        while temp.next is not None:\n",
    "            if temp.item == data:\n",
    "                return temp\n",
    "            temp = temp.next\n",
    "\n",
    "    def insert_at_start(self, data):\n",
    "        n = Node(data, self.start)\n",
    "        self.start = n\n",
    "    def insert_at_end(self, data):\n",
    "        n = Node(data)\n",
    "        # if we find the list is empty then put it in the beginning\n",
    "        if self.start is None:\n",
    "            self.start = n\n",
    "        else:\n",
    "            temp = self.start\n",
    "            while temp.next is not None:\n",
    "                temp = temp.next\n",
    "            temp.next = n\n",
    "    def insert_item(self, temp, data):\n",
    "        if temp is not None:\n",
    "            n = Node(data, temp.next)\n",
    "            temp.next = n\n",
    "    def print_list(self):\n",
    "        temp = self.start\n",
    "        while temp is not None:\n",
    "            print(temp.item, end = ' ')\n",
    "            temp = temp.next\n",
    "        print(\"\\n\")\n",
    "    def delete_first(self):\n",
    "        # if its not empty\n",
    "        if self.start is not None:\n",
    "            self.start = self.start.next\n",
    "    def delete_last(self):\n",
    "        if self.start is None:\n",
    "            # if its empty\n",
    "            pass\n",
    "        elif self.start.next is None:\n",
    "            # if only 1 item in the list then\n",
    "            self.start = None\n",
    "        else:\n",
    "            temp = self.start\n",
    "            while temp.next.next is not None:\n",
    "                temp = temp.next\n",
    "            temp.next = None\n",
    "    def delete_item(self, data):\n",
    "        # if no item\n",
    "        if self.start is None:\n",
    "            pass\n",
    "        # 1 item only\n",
    "        elif self.start.next is None:\n",
    "            if self.start.item == data:\n",
    "                self.start.next = None\n",
    "        else:\n",
    "            temp = self.start\n",
    "            # if the item is in the beginning\n",
    "            if temp.item == data:\n",
    "                self.start = temp.next\n",
    "            else:\n",
    "                while temp.next is not None:\n",
    "                    if temp.item == data:\n",
    "                        temp.next = temp.next.next\n",
    "                        break\n",
    "                    temp = temp.next\n",
    "\n",
    "        # this part is to make it iterable\n",
    "        def __iter__(self):\n",
    "            return SLLIterator(self.start)\n",
    "\n",
    "\n"
   ]
  },
  {
   "cell_type": "code",
   "execution_count": 5,
   "id": "a112d344",
   "metadata": {},
   "outputs": [
    {
     "name": "stdout",
     "output_type": "stream",
     "text": [
      "30 50 40 60 \n",
      "\n",
      "50 70 40 \n",
      "\n"
     ]
    }
   ],
   "source": [
    "linkedlist = SLL()\n",
    "linkedlist.insert_at_start(50)\n",
    "\n",
    "linkedlist.insert_at_start(30)\n",
    "linkedlist.insert_at_end(60)\n",
    "linkedlist.insert_item(linkedlist.search(50),40)\n",
    "linkedlist.print_list()\n",
    "linkedlist.delete_first()\n",
    "linkedlist.delete_last()\n",
    "linkedlist.insert_item(linkedlist.search(50),70)\n",
    "linkedlist.print_list()\n",
    "\n"
   ]
  }
 ],
 "metadata": {
  "kernelspec": {
   "display_name": "ailab",
   "language": "python",
   "name": "python3"
  },
  "language_info": {
   "codemirror_mode": {
    "name": "ipython",
    "version": 3
   },
   "file_extension": ".py",
   "mimetype": "text/x-python",
   "name": "python",
   "nbconvert_exporter": "python",
   "pygments_lexer": "ipython3",
   "version": "3.6.13"
  }
 },
 "nbformat": 4,
 "nbformat_minor": 5
}
